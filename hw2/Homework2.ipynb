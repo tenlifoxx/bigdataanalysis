{
 "cells": [
  {
   "cell_type": "markdown",
   "metadata": {
    "nbgrader": {
     "grade": false,
     "locked": true,
     "solution": false
    }
   },
   "source": [
    "# Homework 2 (Due: 2021.04.01 11:59 PM)"
   ]
  },
  {
   "cell_type": "markdown",
   "metadata": {},
   "source": [
    "Name:홍민기"
   ]
  },
  {
   "cell_type": "markdown",
   "metadata": {},
   "source": [
    "Student ID:2015313098"
   ]
  },
  {
   "cell_type": "markdown",
   "metadata": {
    "nbgrader": {
     "grade": false,
     "locked": true,
     "solution": false
    }
   },
   "source": [
    "For this homework, you are provided with an input file.\n",
    "Submit the code that you used for analysis as an ipython notebook and an exported PDF file."
   ]
  },
  {
   "cell_type": "markdown",
   "metadata": {
    "nbgrader": {
     "grade": false,
     "locked": true,
     "solution": false
    }
   },
   "source": [
    "# Q1 Analyzing the Election Data (3 x 8 = 24 pts)"
   ]
  },
  {
   "cell_type": "markdown",
   "metadata": {
    "nbgrader": {
     "grade": false,
     "locked": true,
     "solution": false
    }
   },
   "source": [
    "Run the following cell to set the filename."
   ]
  },
  {
   "cell_type": "code",
   "execution_count": 1,
   "metadata": {
    "nbgrader": {
     "grade": false,
     "locked": true,
     "solution": false
    }
   },
   "outputs": [],
   "source": [
    "filename = 'bush-gore-results-fl_demo.csv'"
   ]
  },
  {
   "cell_type": "markdown",
   "metadata": {
    "collapsed": true,
    "nbgrader": {
     "grade": false,
     "locked": true,
     "solution": false
    }
   },
   "source": [
    "(a) Determine how many counties Bush won. You can assume that each row corresponds to a unique county.\n",
    "    Demo file: 'bush-gore-results-fl_demo.csv' "
   ]
  },
  {
   "cell_type": "code",
   "execution_count": 2,
   "metadata": {},
   "outputs": [
    {
     "data": {
      "text/plain": [
       "51"
      ]
     },
     "execution_count": 2,
     "metadata": {},
     "output_type": "execute_result"
    }
   ],
   "source": [
    "import pandas as pd\n",
    "\n",
    "df = pd.read_csv(filename)\n",
    "\n",
    "bush = df[df['bush']>df['gore']]\n",
    "len(bush)"
   ]
  },
  {
   "cell_type": "markdown",
   "metadata": {
    "nbgrader": {
     "grade": false,
     "locked": true,
     "solution": false
    }
   },
   "source": [
    "(b) Determine who won the largest county. The column named \"npop\" records the size of each county.\n",
    "    Demo file: 'bush-gore-results-fl_demo.csv' "
   ]
  },
  {
   "cell_type": "code",
   "execution_count": 3,
   "metadata": {},
   "outputs": [
    {
     "name": "stdout",
     "output_type": "stream",
     "text": [
      "gore\n"
     ]
    }
   ],
   "source": [
    "import pandas as pd\n",
    "\n",
    "df = pd.read_csv(filename)\n",
    "\n",
    "max = df.loc[df['npop'].idxmax()]\n",
    "\n",
    "if max['bush'] > max['gore']:\n",
    "    print(\"bush\")\n",
    "elif max['gore'] > max['bush']:\n",
    "    print(\"gore\")\n",
    "else:\n",
    "    print(\"same\")"
   ]
  },
  {
   "cell_type": "markdown",
   "metadata": {
    "nbgrader": {
     "grade": false,
     "locked": true,
     "solution": false
    }
   },
   "source": [
    "(c) Determine the average number of votes per county that Buchanan obtained. You can assume that each row corresponds to a unique county.\n",
    "    Demo file: 'bush-gore-results-fl_demo.csv' "
   ]
  },
  {
   "cell_type": "code",
   "execution_count": 4,
   "metadata": {},
   "outputs": [
    {
     "name": "stdout",
     "output_type": "stream",
     "text": [
      "360.67164179104475\n"
     ]
    }
   ],
   "source": [
    "import pandas as pd\n",
    "\n",
    "df = pd.read_csv(filename)\n",
    "\n",
    "buch_mean = df['buch'].mean(axis = 0)\n",
    "print(buch_mean)"
   ]
  },
  {
   "cell_type": "markdown",
   "metadata": {
    "nbgrader": {
     "grade": false,
     "locked": true,
     "solution": false
    }
   },
   "source": [
    "(d) Determine, for the number of votes Buchanan obtained in Palm Beach, how many standard deviations it is away from Buchanan's overall mean, in absolute value. The row with coounty number 50 (\"co\"=50) records the results for Palm Beach County. (You can assumed that such a row will exist in the test case.)\n",
    "    Demo file: 'bush-gore-results-fl_demo.csv' "
   ]
  },
  {
   "cell_type": "code",
   "execution_count": 5,
   "metadata": {},
   "outputs": [
    {
     "name": "stdout",
     "output_type": "stream",
     "text": [
      "7.045796738007179\n"
     ]
    }
   ],
   "source": [
    "import pandas as pd\n",
    "\n",
    "df = pd.read_csv(filename)\n",
    "\n",
    "buch = df[['co', 'buch']]\n",
    "\n",
    "buch_mean = buch['buch'].mean()\n",
    "buch_50 = buch[buch['co'] == 50]\n",
    "\n",
    "answer = abs((buch_50.iloc[0]['buch'] - buch_mean) / buch['buch'].std(ddof=0))\n",
    "\n",
    "print(answer)"
   ]
  },
  {
   "cell_type": "markdown",
   "metadata": {},
   "source": [
    "(e) Now calculate the above statistic (same as in part f) for all the counties and report them in decreasing order.\n",
    "    Demo file: 'bush-gore-results-fl_demo.csv' \n",
    "    Example output: \n",
    "    county_50 6.993018  \n",
    "    county_52 ...\n",
    "    ...\n",
    "    ..."
   ]
  },
  {
   "cell_type": "code",
   "execution_count": 6,
   "metadata": {},
   "outputs": [
    {
     "name": "stdout",
     "output_type": "stream",
     "text": [
      "county_50 7.045797\n",
      "county_52 1.684742\n",
      "county_28 1.313007\n",
      "county_6 1.180884\n",
      "county_15 0.876329\n",
      "county_51 0.692701\n",
      "county_5 0.692701\n",
      "county_41 0.677025\n",
      "county_43 0.670307\n",
      "county_53 0.607605\n",
      "county_21 0.563586\n",
      "county_33 0.561347\n",
      "county_16 0.540424\n",
      "county_25 0.534474\n",
      "county_23 0.532235\n",
      "county_64 0.526988\n",
      "county_62 0.523278\n",
      "county_20 0.518799\n",
      "county_39 0.518799\n",
      "county_32 0.518799\n",
      "county_14 0.518799\n",
      "county_24 0.516559\n",
      "county_18 0.509841\n",
      "county_13 0.503123\n",
      "county_63 0.500884\n",
      "county_19 0.498644\n",
      "county_38 0.496405\n",
      "county_47 0.487448\n",
      "county_65 0.480729\n",
      "county_44 0.478490\n",
      "county_4 0.438181\n",
      "county_37 0.433703\n",
      "county_22 0.424745\n",
      "county_2 0.420266\n",
      "county_48 0.415019\n",
      "county_29 0.413548\n",
      "county_17 0.397873\n",
      "county_67 0.386676\n",
      "county_12 0.384437\n",
      "county_45 0.382197\n",
      "county_7 0.382197\n",
      "county_31 0.355325\n",
      "county_30 0.348607\n",
      "county_61 0.341888\n",
      "county_42 0.332931\n",
      "county_60 0.328452\n",
      "county_66 0.315016\n",
      "county_11 0.310537\n",
      "county_59 0.306059\n",
      "county_27 0.299340\n",
      "county_49 0.259032\n",
      "county_54 0.252314\n",
      "county_8 0.176175\n",
      "county_10 0.167218\n",
      "county_57 0.149303\n",
      "county_55 0.112704\n",
      "county_35 0.099268\n",
      "county_56 0.099268\n",
      "county_58 0.070925\n",
      "county_34 0.063438\n",
      "county_36 0.047762\n",
      "county_26 0.041813\n",
      "county_3 0.028377\n",
      "county_40 0.023129\n",
      "county_9 0.020890\n",
      "county_46 0.014172\n",
      "county_1 0.005214\n"
     ]
    }
   ],
   "source": [
    "import pandas as pd\n",
    "\n",
    "df = pd.read_csv(filename)\n",
    "\n",
    "buch = df[['co', 'buch']]\n",
    "buch_mean = buch['buch'].mean()\n",
    "buch_std = buch['buch'].std(ddof=0)\n",
    "Z = []\n",
    "\n",
    "for i in range(len(buch)):\n",
    "    Z.append(abs((buch.iloc[i]['buch'] - buch_mean) / buch_std))\n",
    "    \n",
    "buch = buch.assign(Z=Z)\n",
    "buch = buch.sort_values(by=['Z'], ascending=False)\n",
    "\n",
    "for i in range(len(buch)):\n",
    "    str = \"county_%d %f\" % (buch.iloc[i]['co'], buch.iloc[i]['Z'])\n",
    "    print(str)"
   ]
  },
  {
   "cell_type": "markdown",
   "metadata": {
    "nbgrader": {
     "grade": false,
     "locked": true,
     "solution": false
    }
   },
   "source": [
    "(f) Assuming that the votes were distributed across the white, black, and hispanic population uniformly, determine which candidate obtained the largest number of votes for each subpopulation.\n",
    "    Demo file: 'bush-gore-results-fl_demo.csv' \n",
    "    Example output:\n",
    "    white: bush\n",
    "    black: ..\n",
    "    hispanic: .."
   ]
  },
  {
   "cell_type": "code",
   "execution_count": 7,
   "metadata": {
    "scrolled": false
   },
   "outputs": [
    {
     "name": "stdout",
     "output_type": "stream",
     "text": [
      "white: bush\n",
      "black: gore\n",
      "hispanic: gore\n"
     ]
    }
   ],
   "source": [
    "import pandas as pd\n",
    "\n",
    "df = pd.read_csv(filename)\n",
    "\n",
    "white = []\n",
    "black = []\n",
    "hispanic = []\n",
    "\n",
    "for data in df.iloc[:, 11:22]:\n",
    "    temp = df[data]*df[\"whit\"]*0.01\n",
    "    white.append((data,temp.sum()))\n",
    "    \n",
    "for data in df.iloc[:, 11:22]:\n",
    "    temp = df[data]*df[\"blac\"]*0.01\n",
    "    black.append((data,temp.sum()))\n",
    "    \n",
    "for data in df.iloc[:, 11:22]:\n",
    "    temp = df[data]*df[\"hisp\"]*0.01\n",
    "    hispanic.append((data,temp.sum()))\n",
    "    \n",
    "white.sort(key=lambda x:x[1], reverse=True)\n",
    "black.sort(key=lambda x:x[1], reverse=True)\n",
    "hispanic.sort(key=lambda x:x[1], reverse=True)\n",
    "\n",
    "print(\"white: \" + white[0][0])\n",
    "print(\"black: \" + black[0][0])\n",
    "print(\"hispanic: \" + hispanic[0][0])"
   ]
  },
  {
   "cell_type": "markdown",
   "metadata": {
    "nbgrader": {
     "grade": false,
     "locked": true,
     "solution": false
    }
   },
   "source": [
    "(g) Calculate the correlation between the difference in votes between Bush and Gore, and the votes obtained by Nader.\n",
    "(FYI: Pearson's correlation coefficient) https://en.wikipedia.org/wiki/Pearson_correlation_coefficient\n",
    "    Demo file: 'bush-gore-results-fl_demo.csv' "
   ]
  },
  {
   "cell_type": "code",
   "execution_count": 8,
   "metadata": {
    "scrolled": true
   },
   "outputs": [
    {
     "name": "stdout",
     "output_type": "stream",
     "text": [
      "-0.42364341310857667\n"
     ]
    }
   ],
   "source": [
    "import pandas as pd\n",
    "\n",
    "df = pd.read_csv(filename)\n",
    "\n",
    "df['bush-gore']=df['bush']-df['gore']\n",
    "calc = df[['bush-gore', 'nade']]\n",
    "\n",
    "print(calc.corr(method='pearson').iloc[0,1])"
   ]
  },
  {
   "cell_type": "markdown",
   "metadata": {
    "nbgrader": {
     "grade": false,
     "locked": true,
     "solution": false
    }
   },
   "source": [
    "(h) Find the distance between the county that Bush won by the largest margin and the county that Gore won by the largest margin. (Just use basic Euclidean distance between the latitude (lat) and longitude (lon) values for the counties, no need to compute spherical distance.) (FYI: Eucliden distane is decribed in https://en.wikipedia.org/wiki/Euclidean_distance#:~:text=In%20mathematics%2C%20the%20Euclidean%20distance,metric%20as%20the%20Pythagorean%20metric.)\n",
    "    Demo file: 'bush-gore-results-fl_demo.csv' "
   ]
  },
  {
   "cell_type": "code",
   "execution_count": 9,
   "metadata": {},
   "outputs": [
    {
     "name": "stdout",
     "output_type": "stream",
     "text": [
      "4.341658669218476\n"
     ]
    }
   ],
   "source": [
    "import pandas as pd\n",
    "\n",
    "\n",
    "df = pd.read_csv(filename)\n",
    "\n",
    "df['bush-gore']=df['bush']-df['gore']\n",
    "df = df.sort_values(by=['bush-gore'])\n",
    "\n",
    "answer=((df.iloc[0]['lat']-df.iloc[len(df)-1]['lat'])**2 + (df.iloc[0]['lon']-df.iloc[len(df)-1]['lon'])**2) ** 0.5\n",
    "\n",
    "print(answer)"
   ]
  }
 ],
 "metadata": {
  "kernelspec": {
   "display_name": "Python 3",
   "language": "python",
   "name": "python3"
  },
  "language_info": {
   "codemirror_mode": {
    "name": "ipython",
    "version": 3
   },
   "file_extension": ".py",
   "mimetype": "text/x-python",
   "name": "python",
   "nbconvert_exporter": "python",
   "pygments_lexer": "ipython3",
   "version": "3.8.3"
  }
 },
 "nbformat": 4,
 "nbformat_minor": 2
}
