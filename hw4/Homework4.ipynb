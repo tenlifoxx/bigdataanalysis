{
 "cells": [
  {
   "cell_type": "markdown",
   "id": "2956e329",
   "metadata": {},
   "source": [
    "## 1 Preprocessing"
   ]
  },
  {
   "cell_type": "markdown",
   "id": "12e461b8",
   "metadata": {},
   "source": [
    "**(a) First we will load the data using spark data source API. Write codes to load and print out its schema using printSchema().**"
   ]
  },
  {
   "cell_type": "code",
   "execution_count": 2,
   "id": "5b2de611",
   "metadata": {},
   "outputs": [
    {
     "name": "stdout",
     "output_type": "stream",
     "text": [
      "root\n",
      " |-- PassengerId: string (nullable = true)\n",
      " |-- Survived: string (nullable = true)\n",
      " |-- Pclass: string (nullable = true)\n",
      " |-- Name: string (nullable = true)\n",
      " |-- Sex: string (nullable = true)\n",
      " |-- Age: string (nullable = true)\n",
      " |-- SibSp: string (nullable = true)\n",
      " |-- Parch: string (nullable = true)\n",
      " |-- Ticket: string (nullable = true)\n",
      " |-- Fare: string (nullable = true)\n",
      " |-- Cabin: string (nullable = true)\n",
      " |-- Embarked: string (nullable = true)\n",
      "\n"
     ]
    }
   ],
   "source": [
    "from pyspark.sql import SparkSession\n",
    "from pyspark.sql import functions\n",
    "import matplotlib.pyplot as plt\n",
    "import pandas as pd\n",
    "ss = SparkSession.builder.appName(\"Python Spark\").getOrCreate()\n",
    "df = ss.read.format('csv').options(header='true').load('train.csv')\n",
    "df.printSchema()"
   ]
  },
  {
   "cell_type": "markdown",
   "id": "2ad5fe0c",
   "metadata": {},
   "source": [
    "**(b) Find columns that include Missing values. After that, fill the mean value for all the missing values. Please drop Ticket and Cabin columns and do not modify categorical variables\n",
    "like Embarked.**"
   ]
  },
  {
   "cell_type": "code",
   "execution_count": 3,
   "id": "166d1ea1",
   "metadata": {},
   "outputs": [
    {
     "name": "stdout",
     "output_type": "stream",
     "text": [
      "+-----------+--------+------+----+---+---+-----+-----+----+--------+\n",
      "|PassengerId|Survived|Pclass|Name|Sex|Age|SibSp|Parch|Fare|Embarked|\n",
      "+-----------+--------+------+----+---+---+-----+-----+----+--------+\n",
      "|          0|       0|     0|   0|  0|177|    0|    0|   0|       2|\n",
      "+-----------+--------+------+----+---+---+-----+-----+----+--------+\n",
      "\n"
     ]
    }
   ],
   "source": [
    "df = df.drop(*['Ticket', 'Cabin'])\n",
    "df.select(*(functions.sum(functions.col(c).isNull().cast(\"int\")).alias(c) for c in df.columns)).show()"
   ]
  },
  {
   "cell_type": "markdown",
   "id": "977a2815",
   "metadata": {},
   "source": [
    "Only 'Age' column has missing values, except 'Embarked'"
   ]
  },
  {
   "cell_type": "code",
   "execution_count": 4,
   "id": "87c6747e",
   "metadata": {},
   "outputs": [],
   "source": [
    "avg_age = df.select('Age').describe().collect()[1]['Age']\n",
    "df = df.fillna({'Age':avg_age})"
   ]
  },
  {
   "cell_type": "markdown",
   "id": "9b8e5202",
   "metadata": {},
   "source": [
    "**(c) Visualize a histogram for an Age column.**"
   ]
  },
  {
   "cell_type": "code",
   "execution_count": 5,
   "id": "8bab630b",
   "metadata": {},
   "outputs": [
    {
     "data": {
      "image/png": "[encoded data removed]",
      "text/plain": [
       "<Figure size 1080x576 with 1 Axes>"
      ]
     },
     "metadata": {
      "needs_background": "light"
     },
     "output_type": "display_data"
    }
   ],
   "source": [
    "age = df.select('Age').toPandas()['Age'].tolist()\n",
    "age = [float(a) for a in age]\n",
    "age.sort()\n",
    "plt.rcParams[\"figure.figsize\"] = (15,8)\n",
    "plt.hist(age, bins=[0, 10, 20, 30, 40, 50, 60, 80, 90, 100])\n",
    "plt.show()"
   ]
  },
  {
   "cell_type": "markdown",
   "id": "e2d987a0",
   "metadata": {},
   "source": [
    "**(d) Many columns are categorical variables. So we use one-hot encoding using spark ML pipeline API. In this example, we are using StringIndexer and OneHotEncoder to do that. For\n",
    "missing values or NaN values, please replace them as \\0\", which has a String type.**"
   ]
  },
  {
   "cell_type": "code",
   "execution_count": 7,
   "id": "5756deef",
   "metadata": {},
   "outputs": [],
   "source": [
    "from pyspark.ml import Pipeline\n",
    "from pyspark.ml.feature import StringIndexer\n",
    "from pyspark.ml.feature import OneHotEncoder\n",
    "from pyspark.ml.feature import VectorAssembler\n",
    "categories = ['Survived', 'Pclass', 'Sex', 'Embarked']\n",
    "append_list = []\n",
    "df = df.fillna({'Embarked': '0'}) ### fill NaN values to '0'\n",
    "\n",
    "for ctg in categories:\n",
    "    indexer = StringIndexer(inputCol = ctg, outputCol = f'{ctg}Index')\n",
    "    encoder = OneHotEncoder(inputCol = f'{ctg}Index', outputCol = f'{ctg}Vec')\n",
    "    append_list.append(indexer)\n",
    "    append_list.append(encoder)\n",
    "    \n",
    "va = VectorAssembler(inputCols=['PclassVec', 'SexVec', 'EmbarkedVec'], outputCol='features')\n",
    "append_list.append(va)\n",
    "\n",
    "pipeline = Pipeline(stages = append_list)\n",
    "myDf = pipeline.fit(df).transform(df)"
   ]
  },
  {
   "cell_type": "markdown",
   "id": "459377a9",
   "metadata": {},
   "source": [
    "**(e) One we prepared our data, we split the data into two sets: training (80 %) and testing (20 %) datasets. We use Spark’s randomSplit method to get them. Please leave the code.**"
   ]
  },
  {
   "cell_type": "code",
   "execution_count": 8,
   "id": "76576c10",
   "metadata": {},
   "outputs": [],
   "source": [
    "train_set, test_set = myDf.randomSplit([0.8, 0.2])"
   ]
  },
  {
   "cell_type": "markdown",
   "id": "d1a01c15",
   "metadata": {},
   "source": [
    "## 2 Classification using Logistic Regression\n",
    "**In this questions below, you will train and test a logistic regression model. Please leave your codes for each part in your report**"
   ]
  },
  {
   "cell_type": "markdown",
   "id": "9c9afb9d",
   "metadata": {},
   "source": [
    "**(a) Create stages for all features, which are processed above, and make a pipeline with logistic regression using default parameters.**"
   ]
  },
  {
   "cell_type": "code",
   "execution_count": 9,
   "id": "d38017d0",
   "metadata": {},
   "outputs": [],
   "source": [
    "from pyspark.ml.classification import LogisticRegression\n",
    "\n",
    "logi = LogisticRegression(featuresCol='features', labelCol = 'SurvivedIndex')\n",
    "m_pipeline = Pipeline(stages = [logi])"
   ]
  },
  {
   "cell_type": "markdown",
   "id": "35f039d2",
   "metadata": {},
   "source": [
    "**(b) Fit the model.**"
   ]
  },
  {
   "cell_type": "code",
   "execution_count": 10,
   "id": "3d230692",
   "metadata": {},
   "outputs": [],
   "source": [
    "model = m_pipeline.fit(train_set)"
   ]
  },
  {
   "cell_type": "markdown",
   "id": "243e8102",
   "metadata": {},
   "source": [
    "**(c) Once model is trained, we need to know how it’s performing. So we use precision score as our evaluation metric. Report the result. You can refer to RDD-Evaluation or Precision\n",
    "with Micro option (Scikit-learn).**"
   ]
  },
  {
   "cell_type": "code",
   "execution_count": 11,
   "id": "d8eb4328",
   "metadata": {},
   "outputs": [
    {
     "name": "stdout",
     "output_type": "stream",
     "text": [
      "Precision Score : 0.7660818713450293\n"
     ]
    }
   ],
   "source": [
    "from sklearn.metrics import precision_score ###Using Scikit-learn\n",
    "actual = test_set.toPandas()['SurvivedIndex'].tolist()\n",
    "predict = model.transform(test_set).toPandas()['prediction'].tolist()\n",
    "score = precision_score(actual, predict,average='micro')\n",
    "print(\"Precision Score :\", score)"
   ]
  },
  {
   "cell_type": "markdown",
   "id": "518f5b87",
   "metadata": {},
   "source": [
    "**(d) From the fitted model, please identify which attribute is contributed the most? (Hint: Print the coefficients and intercepts for logistic regression.)**"
   ]
  },
  {
   "cell_type": "code",
   "execution_count": 12,
   "id": "2bb3a33d",
   "metadata": {},
   "outputs": [
    {
     "name": "stdout",
     "output_type": "stream",
     "text": [
      "Coefficients :\n",
      "-1.3122070569307738\n",
      "0.7653343085213908\n",
      "-2.537477135965413\n",
      "1.1505668062912542\n",
      "1.7825369869421497\n",
      "1.8090633428878429\n",
      "\n",
      "Intercept: 0.14672616717563702\n"
     ]
    }
   ],
   "source": [
    "print(\"Coefficients :\")\n",
    "for num in model.stages[0].coefficients:\n",
    "    print(num)\n",
    "    \n",
    "print(\"\\nIntercept: \" + str(model.stages[0].intercept))"
   ]
  },
  {
   "cell_type": "markdown",
   "id": "bbaa2794",
   "metadata": {},
   "source": [
    "'Embarked' attributed most"
   ]
  }
 ],
 "metadata": {
  "kernelspec": {
   "display_name": "Python 3",
   "language": "python",
   "name": "python3"
  },
  "language_info": {
   "codemirror_mode": {
    "name": "ipython",
    "version": 3
   },
   "file_extension": ".py",
   "mimetype": "text/x-python",
   "name": "python",
   "nbconvert_exporter": "python",
   "pygments_lexer": "ipython3",
   "version": "3.8.8"
  }
 },
 "nbformat": 4,
 "nbformat_minor": 5
}
